{
 "cells": [
  {
   "cell_type": "code",
   "execution_count": 1,
   "id": "e012b03f",
   "metadata": {},
   "outputs": [
    {
     "name": "stdout",
     "output_type": "stream",
     "text": [
      "i am athira\n"
     ]
    }
   ],
   "source": [
    "print(\"i am athira\")"
   ]
  },
  {
   "cell_type": "code",
   "execution_count": 2,
   "id": "508f8efa",
   "metadata": {},
   "outputs": [
    {
     "name": "stdout",
     "output_type": "stream",
     "text": [
      "athira\n",
      "arun\n"
     ]
    }
   ],
   "source": [
    "print(\"athira\")\n",
    "print(\"arun\")"
   ]
  },
  {
   "cell_type": "code",
   "execution_count": 3,
   "id": "1123cfb9",
   "metadata": {},
   "outputs": [
    {
     "name": "stdout",
     "output_type": "stream",
     "text": [
      "anuanuanuanuanu\n"
     ]
    }
   ],
   "source": [
    "print(5*\"anu\")"
   ]
  },
  {
   "cell_type": "code",
   "execution_count": 4,
   "id": "ff8ca47e",
   "metadata": {},
   "outputs": [
    {
     "name": "stdout",
     "output_type": "stream",
     "text": [
      "10\n"
     ]
    }
   ],
   "source": [
    "a = 10\n",
    "print(a)"
   ]
  },
  {
   "cell_type": "code",
   "execution_count": 5,
   "id": "8175fcad",
   "metadata": {},
   "outputs": [
    {
     "name": "stdout",
     "output_type": "stream",
     "text": [
      "7\n"
     ]
    }
   ],
   "source": [
    "a = 5\n",
    "b = 2\n",
    "sum = a+b\n",
    "print(sum)"
   ]
  },
  {
   "cell_type": "code",
   "execution_count": 6,
   "id": "d36e82de",
   "metadata": {},
   "outputs": [
    {
     "name": "stdout",
     "output_type": "stream",
     "text": [
      "10\n"
     ]
    }
   ],
   "source": [
    "a = 2\n",
    "b = 5\n",
    "mul =a*b\n",
    "print(mul)"
   ]
  },
  {
   "cell_type": "code",
   "execution_count": 9,
   "id": "c9f70ba5",
   "metadata": {},
   "outputs": [
    {
     "ename": "SyntaxError",
     "evalue": "invalid syntax (<ipython-input-9-f8a6712588f1>, line 3)",
     "output_type": "error",
     "traceback": [
      "\u001b[1;36m  File \u001b[1;32m\"<ipython-input-9-f8a6712588f1>\"\u001b[1;36m, line \u001b[1;32m3\u001b[0m\n\u001b[1;33m    print (\"The first value is\" + str(a)+\"The second value is\"str(b))\u001b[0m\n\u001b[1;37m                                                              ^\u001b[0m\n\u001b[1;31mSyntaxError\u001b[0m\u001b[1;31m:\u001b[0m invalid syntax\n"
     ]
    }
   ],
   "source": []
  },
  {
   "cell_type": "code",
   "execution_count": 12,
   "id": "3faadeaf",
   "metadata": {},
   "outputs": [
    {
     "name": "stdout",
     "output_type": "stream",
     "text": [
      "Enter a number1\n",
      "Enter a number2\n",
      "The first value is 1The second value is 2\n"
     ]
    }
   ],
   "source": [
    "a = input(\"Enter a number\")\n",
    "b = input(\"Enter a number\")\n",
    "print(\"The first value is \" + str(a) + \"The second value is \" + str(b))"
   ]
  },
  {
   "cell_type": "code",
   "execution_count": 14,
   "id": "08dfcc39",
   "metadata": {},
   "outputs": [
    {
     "ename": "SyntaxError",
     "evalue": "invalid syntax (<ipython-input-14-63b2c6377e6a>, line 1)",
     "output_type": "error",
     "traceback": [
      "\u001b[1;36m  File \u001b[1;32m\"<ipython-input-14-63b2c6377e6a>\"\u001b[1;36m, line \u001b[1;32m1\u001b[0m\n\u001b[1;33m    a = input(enter two numbers)\u001b[0m\n\u001b[1;37m                    ^\u001b[0m\n\u001b[1;31mSyntaxError\u001b[0m\u001b[1;31m:\u001b[0m invalid syntax\n"
     ]
    }
   ],
   "source": [
    "\n",
    "a = input(enter two numbers)\n",
    "b = ()\n",
    "print(\"first is \" + str(a) +\"second is\" + str(b))"
   ]
  },
  {
   "cell_type": "code",
   "execution_count": 17,
   "id": "20f3b6da",
   "metadata": {},
   "outputs": [
    {
     "name": "stdout",
     "output_type": "stream",
     "text": [
      "enter two numbers5\n",
      "first is 5second is()\n"
     ]
    }
   ],
   "source": [
    "a = input(\"enter two numbers\")\n",
    "print(\"first is \" + str(a) +\"second is\" + str(b))"
   ]
  },
  {
   "cell_type": "code",
   "execution_count": 1,
   "id": "8196f2af",
   "metadata": {},
   "outputs": [
    {
     "name": "stdout",
     "output_type": "stream",
     "text": [
      "enter a number\n",
      "enter a number\n",
      "sum = a+b\n"
     ]
    }
   ],
   "source": [
    "a=10\n",
    "b=20\n",
    "s=a+b\n",
    "print(\"enter a number\")\n",
    "print(\"enter a number\")\n",
    "print(\"sum = a+b\")"
   ]
  },
  {
   "cell_type": "code",
   "execution_count": null,
   "id": "c6a41515",
   "metadata": {},
   "outputs": [],
   "source": []
  }
 ],
 "metadata": {
  "kernelspec": {
   "display_name": "Python 3",
   "language": "python",
   "name": "python3"
  },
  "language_info": {
   "codemirror_mode": {
    "name": "ipython",
    "version": 3
   },
   "file_extension": ".py",
   "mimetype": "text/x-python",
   "name": "python",
   "nbconvert_exporter": "python",
   "pygments_lexer": "ipython3",
   "version": "3.8.8"
  }
 },
 "nbformat": 4,
 "nbformat_minor": 5
}
