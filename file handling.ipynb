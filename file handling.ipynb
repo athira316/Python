{
 "cells": [
  {
   "cell_type": "code",
   "execution_count": null,
   "id": "85a97512",
   "metadata": {},
   "outputs": [],
   "source": [
    "f = open(\"textfile.txt)\n",
    "\n"
   ]
  },
  {
   "cell_type": "code",
   "execution_count": null,
   "id": "b3904495",
   "metadata": {},
   "outputs": [],
   "source": [
    "f = open(\"textfile.txt\", \"r\")\n",
    "print(f.read())"
   ]
  }
 ],
 "metadata": {
  "kernelspec": {
   "display_name": "Python 3",
   "language": "python",
   "name": "python3"
  },
  "language_info": {
   "codemirror_mode": {
    "name": "ipython",
    "version": 3
   },
   "file_extension": ".py",
   "mimetype": "text/x-python",
   "name": "python",
   "nbconvert_exporter": "python",
   "pygments_lexer": "ipython3",
   "version": "3.8.8"
  }
 },
 "nbformat": 4,
 "nbformat_minor": 5
}
