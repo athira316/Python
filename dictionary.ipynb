{
 "cells": [
  {
   "cell_type": "code",
   "execution_count": 3,
   "id": "bfb9e98e",
   "metadata": {},
   "outputs": [
    {
     "name": "stdout",
     "output_type": "stream",
     "text": [
      "{'item': 'phone', 'model': 'vivo', 'color': 'black'}\n"
     ]
    }
   ],
   "source": [
    "dic = {\n",
    "    \"item\" : \"phone\",\n",
    "    \"model\" : \"vivo\",\n",
    "    \"color\" : \"black\"\n",
    "}\n",
    "print(dic)"
   ]
  },
  {
   "cell_type": "code",
   "execution_count": 4,
   "id": "29eb427a",
   "metadata": {},
   "outputs": [
    {
     "name": "stdout",
     "output_type": "stream",
     "text": [
      "vivo\n"
     ]
    }
   ],
   "source": [
    "dic = {\n",
    "    \"item\" : \"phone\",\n",
    "    \"model\" : \"vivo\",\n",
    "    \"color\" : \"black\"\n",
    "}\n",
    "print(dic[\"model\"])"
   ]
  },
  {
   "cell_type": "code",
   "execution_count": 10,
   "id": "ffb034d4",
   "metadata": {},
   "outputs": [
    {
     "name": "stdout",
     "output_type": "stream",
     "text": [
      "b is greaterthan a\n"
     ]
    }
   ],
   "source": [
    "a = 50\n",
    "b = 100\n",
    "if b > a :\n",
    "    print(\"b is greaterthan a\")"
   ]
  },
  {
   "cell_type": "code",
   "execution_count": 13,
   "id": "ecb5f54b",
   "metadata": {},
   "outputs": [
    {
     "name": "stdout",
     "output_type": "stream",
     "text": [
      "a is equal to b\n"
     ]
    }
   ],
   "source": [
    "a = 10\n",
    "b = 10\n",
    "if b>a :\n",
    "    print(\"a is greaterthan b\")\n",
    "elif  a == b :\n",
    "    print(\"a is equal to b\")"
   ]
  },
  {
   "cell_type": "code",
   "execution_count": null,
   "id": "5a518fd7",
   "metadata": {},
   "outputs": [],
   "source": []
  }
 ],
 "metadata": {
  "kernelspec": {
   "display_name": "Python 3",
   "language": "python",
   "name": "python3"
  },
  "language_info": {
   "codemirror_mode": {
    "name": "ipython",
    "version": 3
   },
   "file_extension": ".py",
   "mimetype": "text/x-python",
   "name": "python",
   "nbconvert_exporter": "python",
   "pygments_lexer": "ipython3",
   "version": "3.8.8"
  }
 },
 "nbformat": 4,
 "nbformat_minor": 5
}
