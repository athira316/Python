{
 "cells": [
  {
   "cell_type": "code",
   "execution_count": null,
   "id": "0c114e5d",
   "metadata": {},
   "outputs": [],
   "source": [
    "f = open(\"textfile.txt)\n",
    "\n"
   ]
  },
  {
   "cell_type": "code",
   "execution_count": null,
   "id": "c7c044e6",
   "metadata": {},
   "outputs": [],
   "source": [
    "f = open(\"textfile.txt\", \"r\")\n",
    "print(f.read())"
   ]
  },
  {
   "cell_type": "code",
   "execution_count": null,
   "id": "ba29cb4f",
   "metadata": {},
   "outputs": [],
   "source": [
    "import os\n",
    "os.remove(\"textfile.txt\")"
   ]
  }
 ],
 "metadata": {
  "kernelspec": {
   "display_name": "Python 3",
   "language": "python",
   "name": "python3"
  },
  "language_info": {
   "codemirror_mode": {
    "name": "ipython",
    "version": 3
   },
   "file_extension": ".py",
   "mimetype": "text/x-python",
   "name": "python",
   "nbconvert_exporter": "python",
   "pygments_lexer": "ipython3",
   "version": "3.8.8"
  }
 },
 "nbformat": 4,
 "nbformat_minor": 5
}
