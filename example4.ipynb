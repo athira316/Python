{
 "cells": [
  {
   "cell_type": "code",
   "execution_count": 4,
   "id": "9b57451c",
   "metadata": {},
   "outputs": [
    {
     "ename": "SyntaxError",
     "evalue": "invalid syntax (<ipython-input-4-b0aa379ef9ce>, line 5)",
     "output_type": "error",
     "traceback": [
      "\u001b[1;36m  File \u001b[1;32m\"<ipython-input-4-b0aa379ef9ce>\"\u001b[1;36m, line \u001b[1;32m5\u001b[0m\n\u001b[1;33m    else :\u001b[0m\n\u001b[1;37m    ^\u001b[0m\n\u001b[1;31mSyntaxError\u001b[0m\u001b[1;31m:\u001b[0m invalid syntax\n"
     ]
    }
   ],
   "source": [
    "x = 500\n",
    "y = 200\n",
    "if x < y:\n",
    "    print(\"x is lessthan y\")\n",
    "    else :\n",
    "        print(\"x is greaterthan y\")"
   ]
  },
  {
   "cell_type": "code",
   "execution_count": 7,
   "id": "648d2e0c",
   "metadata": {},
   "outputs": [
    {
     "name": "stdout",
     "output_type": "stream",
     "text": [
      "x is lessthan y\n"
     ]
    }
   ],
   "source": [
    "x = 500\n",
    "y = 200\n",
    "if x > y:\n",
    "    print(\"x is lessthan y\")\n",
    "else :\n",
    "        print(\"x is greaterthan y\")"
   ]
  },
  {
   "cell_type": "code",
   "execution_count": 8,
   "id": "b61224c9",
   "metadata": {},
   "outputs": [
    {
     "name": "stdout",
     "output_type": "stream",
     "text": [
      "hello world\n"
     ]
    }
   ],
   "source": [
    "x = \"hello world\"\n",
    "print(x)"
   ]
  },
  {
   "cell_type": "code",
   "execution_count": 11,
   "id": "6c46604f",
   "metadata": {},
   "outputs": [
    {
     "name": "stdout",
     "output_type": "stream",
     "text": [
      "11\n"
     ]
    }
   ],
   "source": [
    "x =  \"hello world\"\n",
    "print(len(x))"
   ]
  },
  {
   "cell_type": "code",
   "execution_count": 12,
   "id": "85aa0d6b",
   "metadata": {},
   "outputs": [
    {
     "name": "stdout",
     "output_type": "stream",
     "text": [
      "athir\n"
     ]
    }
   ],
   "source": [
    "x = \"athirapv\"\n",
    "print(x[0:5])"
   ]
  },
  {
   "cell_type": "code",
   "execution_count": 17,
   "id": "b29d84ad",
   "metadata": {},
   "outputs": [
    {
     "name": "stdout",
     "output_type": "stream",
     "text": [
      "athira\n"
     ]
    }
   ],
   "source": [
    "x = \"athira pv\"\n",
    "print(x[0:6])"
   ]
  },
  {
   "cell_type": "code",
   "execution_count": null,
   "id": "8c166eb3",
   "metadata": {},
   "outputs": [],
   "source": []
  }
 ],
 "metadata": {
  "kernelspec": {
   "display_name": "Python 3",
   "language": "python",
   "name": "python3"
  },
  "language_info": {
   "codemirror_mode": {
    "name": "ipython",
    "version": 3
   },
   "file_extension": ".py",
   "mimetype": "text/x-python",
   "name": "python",
   "nbconvert_exporter": "python",
   "pygments_lexer": "ipython3",
   "version": "3.8.8"
  }
 },
 "nbformat": 4,
 "nbformat_minor": 5
}
