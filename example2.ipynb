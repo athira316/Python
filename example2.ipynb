{
 "cells": [
  {
   "cell_type": "code",
   "execution_count": 1,
   "id": "b8d3055d",
   "metadata": {},
   "outputs": [
    {
     "name": "stdout",
     "output_type": "stream",
     "text": [
      "athira\n"
     ]
    }
   ],
   "source": [
    "a = \"athira\"\n",
    "print(a)"
   ]
  },
  {
   "cell_type": "code",
   "execution_count": 5,
   "id": "fc03ff06",
   "metadata": {},
   "outputs": [
    {
     "name": "stdout",
     "output_type": "stream",
     "text": [
      "enter 2 numbers\n",
      "6\n",
      "4\n",
      "sum 10\n"
     ]
    }
   ],
   "source": [
    "print(\"enter 2 numbers\")\n",
    "n1 = int(input())\n",
    "n2 = int(input())\n",
    "res = n1+n2\n",
    "print(\"sum\",res)"
   ]
  },
  {
   "cell_type": "code",
   "execution_count": 7,
   "id": "527cae18",
   "metadata": {},
   "outputs": [
    {
     "name": "stdout",
     "output_type": "stream",
     "text": [
      "enter 2 numbers\n",
      "100\n",
      "20\n",
      "sub 80\n"
     ]
    }
   ],
   "source": [
    "print(\"enter 2 numbers\")\n",
    "n1 = int(input())\n",
    "n2 = int(input())\n",
    "res = n1-n2\n",
    "print(\"sub\",res)"
   ]
  },
  {
   "cell_type": "code",
   "execution_count": 8,
   "id": "fb4fa5aa",
   "metadata": {},
   "outputs": [
    {
     "name": "stdout",
     "output_type": "stream",
     "text": [
      "enter 2 numbers\n",
      "10.5\n",
      "5.5\n",
      "sub 5.0\n"
     ]
    }
   ],
   "source": [
    "print(\"enter 2 numbers\")\n",
    "n1 = float(input())\n",
    "n2 = float(input())\n",
    "res = n1-n2\n",
    "print(\"sub\",res)"
   ]
  },
  {
   "cell_type": "code",
   "execution_count": 9,
   "id": "b0055a1f",
   "metadata": {},
   "outputs": [
    {
     "name": "stdout",
     "output_type": "stream",
     "text": [
      "enter 2 numbers\n",
      "5.5\n",
      "5.5\n",
      "sum 11.0\n"
     ]
    }
   ],
   "source": [
    "print(\"enter 2 numbers\")\n",
    "n1 = float(input())\n",
    "n2 = float(input())\n",
    "res = n1+n2\n",
    "print(\"sum\",res)"
   ]
  },
  {
   "cell_type": "code",
   "execution_count": null,
   "id": "606a8b18",
   "metadata": {},
   "outputs": [],
   "source": [
    "a = 20\n",
    "b = 10\n",
    "t = s\n",
    "print (\"first is \"+str(a)+\"second is \"+str(b))"
   ]
  },
  {
   "cell_type": "code",
   "execution_count": null,
   "id": "b7ac64fa",
   "metadata": {},
   "outputs": [],
   "source": [
    "n1 = int(input(\"Enter  numbers\"))\n",
    "n2 = int(input())\n",
    "avrg = (num1+num2)/2\n",
    "print (\"average is \" + str(avrg))"
   ]
  },
  {
   "cell_type": "code",
   "execution_count": null,
   "id": "9e41c55d",
   "metadata": {},
   "outputs": [],
   "source": [
    "n1 = int(input(\"Enter  numbers\"))\n",
    "n2 = int(input())\n",
    "avrg = (num1+num2)/2\n",
    "print (\"average is \" + str(avrg))"
   ]
  },
  {
   "cell_type": "code",
   "execution_count": null,
   "id": "1d4ba0eb",
   "metadata": {},
   "outputs": [],
   "source": []
  },
  {
   "cell_type": "code",
   "execution_count": null,
   "id": "d79a7cd0",
   "metadata": {},
   "outputs": [],
   "source": []
  },
  {
   "cell_type": "code",
   "execution_count": null,
   "id": "2c44a1cd",
   "metadata": {},
   "outputs": [],
   "source": []
  }
 ],
 "metadata": {
  "kernelspec": {
   "display_name": "Python 3",
   "language": "python",
   "name": "python3"
  },
  "language_info": {
   "codemirror_mode": {
    "name": "ipython",
    "version": 3
   },
   "file_extension": ".py",
   "mimetype": "text/x-python",
   "name": "python",
   "nbconvert_exporter": "python",
   "pygments_lexer": "ipython3",
   "version": "3.8.8"
  }
 },
 "nbformat": 4,
 "nbformat_minor": 5
}
